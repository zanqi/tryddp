{
  "nbformat": 4,
  "nbformat_minor": 0,
  "metadata": {
    "colab": {
      "provenance": [],
      "gpuType": "T4"
    },
    "kernelspec": {
      "name": "python3",
      "display_name": "Python 3"
    },
    "language_info": {
      "name": "python"
    },
    "accelerator": "GPU"
  },
  "cells": [
    {
      "cell_type": "code",
      "execution_count": null,
      "metadata": {
        "colab": {
          "base_uri": "https://localhost:8080/"
        },
        "id": "brXJwyZhV6Lk",
        "outputId": "5e47b9da-fd74-4c53-b868-a116fbca94da"
      },
      "outputs": [
        {
          "output_type": "stream",
          "name": "stdout",
          "text": [
            "Cloning into 'tryddp'...\n",
            "remote: Enumerating objects: 13, done.\u001b[K\n",
            "remote: Counting objects: 100% (13/13), done.\u001b[K\n",
            "remote: Compressing objects: 100% (10/10), done.\u001b[K\n",
            "remote: Total 13 (delta 3), reused 8 (delta 2), pack-reused 0\u001b[K\n",
            "Receiving objects: 100% (13/13), 9.08 KiB | 9.08 MiB/s, done.\n",
            "Resolving deltas: 100% (3/3), done.\n"
          ]
        }
      ],
      "source": [
        "!git clone https://github.com/zanqi/tryddp.git"
      ]
    },
    {
      "cell_type": "code",
      "source": [
        "%cd tryddp"
      ],
      "metadata": {
        "colab": {
          "base_uri": "https://localhost:8080/"
        },
        "id": "AVOMaanfWnLy",
        "outputId": "cbf449b1-451b-4ecb-8c8b-c35b1395ddad"
      },
      "execution_count": null,
      "outputs": [
        {
          "output_type": "stream",
          "name": "stdout",
          "text": [
            "/content/tryddp\n"
          ]
        }
      ]
    },
    {
      "cell_type": "code",
      "source": [
        "!python single_gpu.py 50 10"
      ],
      "metadata": {
        "colab": {
          "base_uri": "https://localhost:8080/"
        },
        "id": "_9CV5dGpWuCg",
        "outputId": "1fce645b-22ce-4e6f-8321-83c89372272a"
      },
      "execution_count": null,
      "outputs": [
        {
          "output_type": "stream",
          "name": "stdout",
          "text": [
            "[GPU0] Epoch 0 | Batchsize: 32 | Steps: 64\n",
            "Epoch 0 | Training checkpoint saved at checkpoint.pt\n",
            "[GPU0] Epoch 1 | Batchsize: 32 | Steps: 64\n",
            "[GPU0] Epoch 2 | Batchsize: 32 | Steps: 64\n",
            "[GPU0] Epoch 3 | Batchsize: 32 | Steps: 64\n",
            "[GPU0] Epoch 4 | Batchsize: 32 | Steps: 64\n",
            "[GPU0] Epoch 5 | Batchsize: 32 | Steps: 64\n",
            "[GPU0] Epoch 6 | Batchsize: 32 | Steps: 64\n",
            "[GPU0] Epoch 7 | Batchsize: 32 | Steps: 64\n",
            "[GPU0] Epoch 8 | Batchsize: 32 | Steps: 64\n",
            "[GPU0] Epoch 9 | Batchsize: 32 | Steps: 64\n",
            "[GPU0] Epoch 10 | Batchsize: 32 | Steps: 64\n",
            "Epoch 10 | Training checkpoint saved at checkpoint.pt\n",
            "[GPU0] Epoch 11 | Batchsize: 32 | Steps: 64\n",
            "[GPU0] Epoch 12 | Batchsize: 32 | Steps: 64\n",
            "[GPU0] Epoch 13 | Batchsize: 32 | Steps: 64\n",
            "[GPU0] Epoch 14 | Batchsize: 32 | Steps: 64\n",
            "[GPU0] Epoch 15 | Batchsize: 32 | Steps: 64\n",
            "[GPU0] Epoch 16 | Batchsize: 32 | Steps: 64\n",
            "[GPU0] Epoch 17 | Batchsize: 32 | Steps: 64\n",
            "[GPU0] Epoch 18 | Batchsize: 32 | Steps: 64\n",
            "[GPU0] Epoch 19 | Batchsize: 32 | Steps: 64\n",
            "[GPU0] Epoch 20 | Batchsize: 32 | Steps: 64\n",
            "Epoch 20 | Training checkpoint saved at checkpoint.pt\n",
            "[GPU0] Epoch 21 | Batchsize: 32 | Steps: 64\n",
            "[GPU0] Epoch 22 | Batchsize: 32 | Steps: 64\n",
            "[GPU0] Epoch 23 | Batchsize: 32 | Steps: 64\n",
            "[GPU0] Epoch 24 | Batchsize: 32 | Steps: 64\n",
            "[GPU0] Epoch 25 | Batchsize: 32 | Steps: 64\n",
            "[GPU0] Epoch 26 | Batchsize: 32 | Steps: 64\n",
            "[GPU0] Epoch 27 | Batchsize: 32 | Steps: 64\n",
            "[GPU0] Epoch 28 | Batchsize: 32 | Steps: 64\n",
            "[GPU0] Epoch 29 | Batchsize: 32 | Steps: 64\n",
            "[GPU0] Epoch 30 | Batchsize: 32 | Steps: 64\n",
            "Epoch 30 | Training checkpoint saved at checkpoint.pt\n",
            "[GPU0] Epoch 31 | Batchsize: 32 | Steps: 64\n",
            "[GPU0] Epoch 32 | Batchsize: 32 | Steps: 64\n",
            "[GPU0] Epoch 33 | Batchsize: 32 | Steps: 64\n",
            "[GPU0] Epoch 34 | Batchsize: 32 | Steps: 64\n",
            "[GPU0] Epoch 35 | Batchsize: 32 | Steps: 64\n",
            "[GPU0] Epoch 36 | Batchsize: 32 | Steps: 64\n",
            "[GPU0] Epoch 37 | Batchsize: 32 | Steps: 64\n",
            "[GPU0] Epoch 38 | Batchsize: 32 | Steps: 64\n",
            "[GPU0] Epoch 39 | Batchsize: 32 | Steps: 64\n",
            "[GPU0] Epoch 40 | Batchsize: 32 | Steps: 64\n",
            "Epoch 40 | Training checkpoint saved at checkpoint.pt\n",
            "[GPU0] Epoch 41 | Batchsize: 32 | Steps: 64\n",
            "[GPU0] Epoch 42 | Batchsize: 32 | Steps: 64\n",
            "[GPU0] Epoch 43 | Batchsize: 32 | Steps: 64\n",
            "[GPU0] Epoch 44 | Batchsize: 32 | Steps: 64\n",
            "[GPU0] Epoch 45 | Batchsize: 32 | Steps: 64\n",
            "[GPU0] Epoch 46 | Batchsize: 32 | Steps: 64\n",
            "[GPU0] Epoch 47 | Batchsize: 32 | Steps: 64\n",
            "[GPU0] Epoch 48 | Batchsize: 32 | Steps: 64\n",
            "[GPU0] Epoch 49 | Batchsize: 32 | Steps: 64\n"
          ]
        }
      ]
    },
    {
      "cell_type": "code",
      "source": [
        "!python multigpu.py 50 10"
      ],
      "metadata": {
        "colab": {
          "base_uri": "https://localhost:8080/"
        },
        "id": "NUxKxh0annEj",
        "outputId": "5fd0a788-7db9-49ce-8bcf-7f923ad09633"
      },
      "execution_count": null,
      "outputs": [
        {
          "output_type": "stream",
          "name": "stdout",
          "text": [
            "[GPU0] Epoch 0 | Batchsize: 32 | Steps: 64\n",
            "Epoch 0 | Training checkpoint saved at checkpoint.pt\n",
            "[GPU0] Epoch 1 | Batchsize: 32 | Steps: 64\n",
            "[GPU0] Epoch 2 | Batchsize: 32 | Steps: 64\n",
            "[GPU0] Epoch 3 | Batchsize: 32 | Steps: 64\n",
            "[GPU0] Epoch 4 | Batchsize: 32 | Steps: 64\n",
            "[GPU0] Epoch 5 | Batchsize: 32 | Steps: 64\n",
            "[GPU0] Epoch 6 | Batchsize: 32 | Steps: 64\n",
            "[GPU0] Epoch 7 | Batchsize: 32 | Steps: 64\n",
            "[GPU0] Epoch 8 | Batchsize: 32 | Steps: 64\n",
            "[GPU0] Epoch 9 | Batchsize: 32 | Steps: 64\n",
            "[GPU0] Epoch 10 | Batchsize: 32 | Steps: 64\n",
            "Epoch 10 | Training checkpoint saved at checkpoint.pt\n",
            "[GPU0] Epoch 11 | Batchsize: 32 | Steps: 64\n",
            "[GPU0] Epoch 12 | Batchsize: 32 | Steps: 64\n",
            "[GPU0] Epoch 13 | Batchsize: 32 | Steps: 64\n",
            "[GPU0] Epoch 14 | Batchsize: 32 | Steps: 64\n",
            "[GPU0] Epoch 15 | Batchsize: 32 | Steps: 64\n",
            "[GPU0] Epoch 16 | Batchsize: 32 | Steps: 64\n",
            "[GPU0] Epoch 17 | Batchsize: 32 | Steps: 64\n",
            "[GPU0] Epoch 18 | Batchsize: 32 | Steps: 64\n",
            "[GPU0] Epoch 19 | Batchsize: 32 | Steps: 64\n",
            "[GPU0] Epoch 20 | Batchsize: 32 | Steps: 64\n",
            "Epoch 20 | Training checkpoint saved at checkpoint.pt\n",
            "[GPU0] Epoch 21 | Batchsize: 32 | Steps: 64\n",
            "[GPU0] Epoch 22 | Batchsize: 32 | Steps: 64\n",
            "[GPU0] Epoch 23 | Batchsize: 32 | Steps: 64\n",
            "[GPU0] Epoch 24 | Batchsize: 32 | Steps: 64\n",
            "[GPU0] Epoch 25 | Batchsize: 32 | Steps: 64\n",
            "[GPU0] Epoch 26 | Batchsize: 32 | Steps: 64\n",
            "[GPU0] Epoch 27 | Batchsize: 32 | Steps: 64\n",
            "[GPU0] Epoch 28 | Batchsize: 32 | Steps: 64\n",
            "[GPU0] Epoch 29 | Batchsize: 32 | Steps: 64\n",
            "[GPU0] Epoch 30 | Batchsize: 32 | Steps: 64\n",
            "Epoch 30 | Training checkpoint saved at checkpoint.pt\n",
            "[GPU0] Epoch 31 | Batchsize: 32 | Steps: 64\n",
            "[GPU0] Epoch 32 | Batchsize: 32 | Steps: 64\n",
            "[GPU0] Epoch 33 | Batchsize: 32 | Steps: 64\n",
            "[GPU0] Epoch 34 | Batchsize: 32 | Steps: 64\n",
            "[GPU0] Epoch 35 | Batchsize: 32 | Steps: 64\n",
            "[GPU0] Epoch 36 | Batchsize: 32 | Steps: 64\n",
            "[GPU0] Epoch 37 | Batchsize: 32 | Steps: 64\n",
            "[GPU0] Epoch 38 | Batchsize: 32 | Steps: 64\n",
            "[GPU0] Epoch 39 | Batchsize: 32 | Steps: 64\n",
            "[GPU0] Epoch 40 | Batchsize: 32 | Steps: 64\n",
            "Epoch 40 | Training checkpoint saved at checkpoint.pt\n",
            "[GPU0] Epoch 41 | Batchsize: 32 | Steps: 64\n",
            "[GPU0] Epoch 42 | Batchsize: 32 | Steps: 64\n",
            "[GPU0] Epoch 43 | Batchsize: 32 | Steps: 64\n",
            "[GPU0] Epoch 44 | Batchsize: 32 | Steps: 64\n",
            "[GPU0] Epoch 45 | Batchsize: 32 | Steps: 64\n",
            "[GPU0] Epoch 46 | Batchsize: 32 | Steps: 64\n",
            "[GPU0] Epoch 47 | Batchsize: 32 | Steps: 64\n",
            "[GPU0] Epoch 48 | Batchsize: 32 | Steps: 64\n",
            "[GPU0] Epoch 49 | Batchsize: 32 | Steps: 64\n"
          ]
        }
      ]
    },
    {
      "cell_type": "code",
      "source": [
        "!git pull"
      ],
      "metadata": {
        "colab": {
          "base_uri": "https://localhost:8080/"
        },
        "id": "LTzQ6R8pEzi2",
        "outputId": "b246a67b-9326-4986-9d24-9735f85ab8ab"
      },
      "execution_count": null,
      "outputs": [
        {
          "output_type": "stream",
          "name": "stdout",
          "text": [
            "remote: Enumerating objects: 4, done.\u001b[K\n",
            "remote: Counting objects:  25% (1/4)\u001b[K\rremote: Counting objects:  50% (2/4)\u001b[K\rremote: Counting objects:  75% (3/4)\u001b[K\rremote: Counting objects: 100% (4/4)\u001b[K\rremote: Counting objects: 100% (4/4), done.\u001b[K\n",
            "remote: Compressing objects:  50% (1/2)\u001b[K\rremote: Compressing objects: 100% (2/2)\u001b[K\rremote: Compressing objects: 100% (2/2), done.\u001b[K\n",
            "remote: Total 3 (delta 1), reused 3 (delta 1), pack-reused 0\u001b[K\n",
            "Unpacking objects:  33% (1/3)\rUnpacking objects:  66% (2/3)\rUnpacking objects: 100% (3/3)\rUnpacking objects: 100% (3/3), 1.60 KiB | 1.60 MiB/s, done.\n",
            "From https://github.com/zanqi/tryddp\n",
            "   6a1c9fd..eda308f  main       -> origin/main\n",
            "Updating 6a1c9fd..eda308f\n",
            "Fast-forward\n",
            " multigpu_torchrun.py | 111 \u001b[32m+++++++++++++++++++++++++++++++++++++++++++++++++++\u001b[m\n",
            " 1 file changed, 111 insertions(+)\n",
            " create mode 100644 multigpu_torchrun.py\n"
          ]
        }
      ]
    },
    {
      "cell_type": "code",
      "source": [
        "!torchrun --standalone --nproc_per_node=gpu multigpu_torchrun.py 50 10"
      ],
      "metadata": {
        "colab": {
          "base_uri": "https://localhost:8080/"
        },
        "id": "4LD3XTO2E2hw",
        "outputId": "54a3c320-2a07-4c06-809c-f161c428c57d"
      },
      "execution_count": null,
      "outputs": [
        {
          "output_type": "stream",
          "name": "stdout",
          "text": [
            "master_addr is only used for static rdzv_backend and when rdzv_endpoint is not specified.\n",
            "[GPU0] Epoch 0 | Batchsize: 32 | Steps: 64\n",
            "Epoch 0 | Training snapshot saved at snapshot.pt\n",
            "[GPU0] Epoch 1 | Batchsize: 32 | Steps: 64\n",
            "[GPU0] Epoch 2 | Batchsize: 32 | Steps: 64\n",
            "[GPU0] Epoch 3 | Batchsize: 32 | Steps: 64\n",
            "[GPU0] Epoch 4 | Batchsize: 32 | Steps: 64\n",
            "[GPU0] Epoch 5 | Batchsize: 32 | Steps: 64\n",
            "[GPU0] Epoch 6 | Batchsize: 32 | Steps: 64\n",
            "[GPU0] Epoch 7 | Batchsize: 32 | Steps: 64\n",
            "[GPU0] Epoch 8 | Batchsize: 32 | Steps: 64\n",
            "[GPU0] Epoch 9 | Batchsize: 32 | Steps: 64\n",
            "[GPU0] Epoch 10 | Batchsize: 32 | Steps: 64\n",
            "Epoch 10 | Training snapshot saved at snapshot.pt\n",
            "[GPU0] Epoch 11 | Batchsize: 32 | Steps: 64\n",
            "[GPU0] Epoch 12 | Batchsize: 32 | Steps: 64\n",
            "[GPU0] Epoch 13 | Batchsize: 32 | Steps: 64\n",
            "[GPU0] Epoch 14 | Batchsize: 32 | Steps: 64\n",
            "[GPU0] Epoch 15 | Batchsize: 32 | Steps: 64\n",
            "[GPU0] Epoch 16 | Batchsize: 32 | Steps: 64\n",
            "[GPU0] Epoch 17 | Batchsize: 32 | Steps: 64\n",
            "[GPU0] Epoch 18 | Batchsize: 32 | Steps: 64\n",
            "[GPU0] Epoch 19 | Batchsize: 32 | Steps: 64\n",
            "[GPU0] Epoch 20 | Batchsize: 32 | Steps: 64\n",
            "Epoch 20 | Training snapshot saved at snapshot.pt\n",
            "[GPU0] Epoch 21 | Batchsize: 32 | Steps: 64\n",
            "[GPU0] Epoch 22 | Batchsize: 32 | Steps: 64\n",
            "[GPU0] Epoch 23 | Batchsize: 32 | Steps: 64\n",
            "[GPU0] Epoch 24 | Batchsize: 32 | Steps: 64\n",
            "[GPU0] Epoch 25 | Batchsize: 32 | Steps: 64\n",
            "[GPU0] Epoch 26 | Batchsize: 32 | Steps: 64\n",
            "[GPU0] Epoch 27 | Batchsize: 32 | Steps: 64\n",
            "[GPU0] Epoch 28 | Batchsize: 32 | Steps: 64\n",
            "[GPU0] Epoch 29 | Batchsize: 32 | Steps: 64\n",
            "[GPU0] Epoch 30 | Batchsize: 32 | Steps: 64\n",
            "Epoch 30 | Training snapshot saved at snapshot.pt\n",
            "[GPU0] Epoch 31 | Batchsize: 32 | Steps: 64\n",
            "[GPU0] Epoch 32 | Batchsize: 32 | Steps: 64\n",
            "[GPU0] Epoch 33 | Batchsize: 32 | Steps: 64\n",
            "[GPU0] Epoch 34 | Batchsize: 32 | Steps: 64\n",
            "[GPU0] Epoch 35 | Batchsize: 32 | Steps: 64\n",
            "[GPU0] Epoch 36 | Batchsize: 32 | Steps: 64\n",
            "[GPU0] Epoch 37 | Batchsize: 32 | Steps: 64\n",
            "[GPU0] Epoch 38 | Batchsize: 32 | Steps: 64\n",
            "[GPU0] Epoch 39 | Batchsize: 32 | Steps: 64\n",
            "[GPU0] Epoch 40 | Batchsize: 32 | Steps: 64\n",
            "Epoch 40 | Training snapshot saved at snapshot.pt\n",
            "[GPU0] Epoch 41 | Batchsize: 32 | Steps: 64\n",
            "[GPU0] Epoch 42 | Batchsize: 32 | Steps: 64\n",
            "[GPU0] Epoch 43 | Batchsize: 32 | Steps: 64\n",
            "[GPU0] Epoch 44 | Batchsize: 32 | Steps: 64\n",
            "[GPU0] Epoch 45 | Batchsize: 32 | Steps: 64\n",
            "[GPU0] Epoch 46 | Batchsize: 32 | Steps: 64\n",
            "[GPU0] Epoch 47 | Batchsize: 32 | Steps: 64\n",
            "[GPU0] Epoch 48 | Batchsize: 32 | Steps: 64\n",
            "[GPU0] Epoch 49 | Batchsize: 32 | Steps: 64\n"
          ]
        }
      ]
    }
  ]
}